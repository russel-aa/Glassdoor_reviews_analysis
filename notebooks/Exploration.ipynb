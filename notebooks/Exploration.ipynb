{
 "cells": [
  {
   "cell_type": "markdown",
   "id": "725899a7-cd3b-4f78-a8a8-61015bd420f1",
   "metadata": {},
   "source": [
    "<br></br>\n",
    "<div style=\"text-align: center; font-size: 3em; color: darkblue\"><strong>Glassdoor Reviews</strong></div>\n",
    "<br></br>"
   ]
  },
  {
   "cell_type": "markdown",
   "id": "012889d3-41c4-4258-8b64-499b332f1bac",
   "metadata": {},
   "source": [
    "<div style=\"background-color:#e8f4fd; padding:15px; border-left:6px solid #3498db; border-radius:4px;\">\n",
    "  <h2 style=\"margin-top:0; color:#2980b9;\">About Glassdoor Company</h2>\n",
    "  <hr style=\"border: 1px solid #3498db; margin-top:5px; margin-bottom:15px;\">\n",
    "\n",
    "Glassdoor is an American website where current and former employees anonymously review companies, operated by the company of the same name. Glassdoor launched its company ratings site in June 2008, and since then it produces reports based upon the data collected from its users, on topics including work–life balance, CEO pay-ratios, lists of the best office places and cultures, and the accuracy of corporate job searching maxims.\n",
    "</div>"
   ]
  },
  {
   "cell_type": "markdown",
   "id": "4e6fcd0d-20c2-4f8f-9433-90b4fb781223",
   "metadata": {},
   "source": [
    "<div style=\"background-color:#e8f4fd; padding:15px; border-left:6px solid #3498db; border-radius:4px;\">\n",
    "  <h2 style=\"margin-top:0; color:#2980b9;\">About the Dataset</h2>\n",
    "  <hr style=\"border: 1px solid #3498db; margin-top:5px; margin-bottom:15px;\">\n",
    "\n",
    "The dataset is large, and it contains job descriptions and rankings among various criteria such as work-life balance, income, culture, etc. The data covers the various industries in the UK. Source: [Click here](\"https://www.kaggle.com/datasets/davidgauthier/glassdoor-job-reviews\")\n",
    "</div>"
   ]
  },
  {
   "cell_type": "markdown",
   "id": "237bf65a-d1e0-49b1-83c8-c5f811fafe9c",
   "metadata": {},
   "source": [
    "<div style=\"background-color:#e8f4fd; padding:15px; border-left:6px solid #3498db; border-radius:4px;\">\n",
    "  <h2 style=\"margin-top:0; color:#2980b9;\">Features of the Dataset</h2>\n",
    "  <hr style=\"border: 1px solid #3498db; margin-top:5px; margin-bottom:15px;\">\n",
    "\n",
    "The columns correspond to the date of the review, the job name, the job location, the status of the reviewers, and the reviews. Reviews are divided in s sub-categories Career Opportunities, Comp & Benefits, Culture & Values, Senior Management, and Work/Life Balance. In addition, employees can add recommendations on the firm, the CEO, and the outlook.\n",
    "</div>"
   ]
  },
  {
   "cell_type": "markdown",
   "id": "01bbe9af-c94a-40f2-b813-c9adb87c0716",
   "metadata": {},
   "source": [
    "<div style=\"background-color:#e8f4fd; padding:15px; border-left:6px solid #3498db; border-radius:4px;\">\n",
    "  <h2 style=\"margin-top:0; color:#2980b9;\">Dictionary</h2>\n",
    "  <hr style=\"border: 1px solid #3498db; margin-top:5px; margin-bottom:15px;\">\n",
    "\n",
    "<table style=\"width: 100%; border-collapse: collapse; background-color: #fff;\">    \n",
    "    <thead>\n",
    "        <tr>\n",
    "            <th style=\"background-color: #3498db; text-align: left; padding: 8px;\">Feature</th>\n",
    "            <th style=\"background-color: #3498db; text-align: left; padding: 8px;\">Definition</th>\n",
    "        </tr>\n",
    "    </thead>\n",
    "    <tbody>\n",
    "        <tr>\n",
    "            <td style=\"padding: 8px;\">Firm (str)</td>\n",
    "            <td style=\"padding: 8px;\">Name of the company being reviewed</td>\n",
    "        </tr>\n",
    "        <tr>\n",
    "            <td style=\"padding: 8px;\">Date Review (str)</td>\n",
    "            <td style=\"padding: 8px;\">Date the review was submitted</td>\n",
    "        </tr>\n",
    "        <tr>\n",
    "            <td style=\"padding: 8px;\">Job Title (str)</td>\n",
    "            <td style=\"padding: 8px;\">Job title of the reviewer</td>\n",
    "        </tr>\n",
    "        <tr>\n",
    "            <td style=\"padding: 8px;\">Employment Status (str)</td>\n",
    "            <td style=\"padding: 8px;\">Employment status: whether the reviewer is a current or former employee</td>\n",
    "        </tr>\n",
    "        <tr>\n",
    "            <td style=\"padding: 8px;\">Location (str)</td>\n",
    "            <td style=\"padding: 8px;\">Geographic location of the job being reviewed</td>\n",
    "        </tr>\n",
    "        <tr>\n",
    "            <td style=\"padding: 8px;\">Overall Rating (int)</td>\n",
    "            <td style=\"padding: 8px;\">Overall rating of the company on a scale from 1 (worst) to 5 (best)</td>\n",
    "        </tr>\n",
    "        <tr>\n",
    "            <td style=\"padding: 8px;\">Work-Life Balance (int)</td>\n",
    "            <td style=\"padding: 8px;\">Rating of the company's support for work-life balance on a scale from 1 (worst) to 5 (best)</td>\n",
    "        </tr>\n",
    "        <tr>\n",
    "            <td style=\"padding: 8px;\">Culture & Values (int)</td>\n",
    "            <td style=\"padding: 8px;\">Rating of company culture and core values on a scale from 1 (worst) to 5 (best)</td>\n",
    "        </tr>\n",
    "        <tr>\n",
    "            <td style=\"padding: 8px;\">Diversity & Inclusion (int)</td>\n",
    "            <td style=\"padding: 8px;\">Rating of the company’s commitment to diversity and inclusion on a scale from 1 (worst) to 5 (best)</td>\n",
    "        </tr>\n",
    "        <tr>\n",
    "            <td style=\"padding: 8px;\">Career Opportunities (int)</td>\n",
    "            <td style=\"padding: 8px;\">Rating of the availability of career advancement opportunities on a scale from 1 (worst) to 5 (best)</td>\n",
    "        </tr>\n",
    "        <tr>\n",
    "            <td style=\"padding: 8px;\">Compensation & Benefits (int)</td>\n",
    "            <td style=\"padding: 8px;\">Rating of compensation (salary) and benefits (insurance, perks, etc.) on a scale from 1 (worst) to 5 (best)</td>\n",
    "        </tr>\n",
    "        <tr>\n",
    "            <td style=\"padding: 8px;\">Senior Management (int)</td>\n",
    "            <td style=\"padding: 8px;\">Rating of the quality and trust in senior leadership/management on a scale from 1 (worst) to 5 (best)</td>\n",
    "        </tr>\n",
    "        <tr>\n",
    "            <td style=\"padding: 8px;\">Recommend to Friend (str)</td>\n",
    "            <td style=\"padding: 8px;\">Whether the employee would recommend the company to a friend (positive/mild/negative/no opinion)</td>\n",
    "        </tr>\n",
    "        <tr>\n",
    "            <td style=\"padding: 8px;\">CEO Approval (str)</td>\n",
    "            <td style=\"padding: 8px;\">Whether the employee approves of the CEO’s leadership (positive/mild/negative/no opinion)</td>\n",
    "        </tr>\n",
    "        <tr>\n",
    "            <td style=\"padding: 8px;\">Outlook (str)</td>\n",
    "            <td style=\"padding: 8px;\">The employee’s outlook on the future of the company (positive/mild/negative/no opinion)</td>\n",
    "        </tr>\n",
    "        <tr>\n",
    "            <td style=\"padding: 8px;\">Headline (str)</td>\n",
    "            <td style=\"padding: 8px;\">Title or summary line of the review</td>\n",
    "        </tr>\n",
    "        <tr>\n",
    "            <td style=\"padding: 8px;\">Pros (str)</td>\n",
    "            <td style=\"padding: 8px;\">Positive aspects of the job or company, written by the reviewer</td>\n",
    "        </tr>\n",
    "        <tr>\n",
    "            <td style=\"padding: 8px;\">Cons (str)</td>\n",
    "            <td style=\"padding: 8px;\">Negative aspects or criticisms, written by the reviewer</td>\n",
    "        </tr>\n",
    "    </tbody>\n",
    "</table>\n",
    "\n",
    "</div>"
   ]
  },
  {
   "cell_type": "markdown",
   "id": "06dcfe1d-7df2-4bbf-a1e1-ded661e700be",
   "metadata": {},
   "source": [
    "<div style=\"background-color:#ffe5e0; padding:15px; border-left:6px solid #e67e22; border-radius:4px;\">\n",
    "  <h2 style=\"margin-top:0; color:#e67e22;\">Problem</h2>\n",
    "  <hr style=\"border: 1px solid #e67e22; margin-top:5px; margin-bottom:15px;\">\n",
    "\n",
    "<ol>\n",
    "    <li>What is the distribution of overall ratings?</li>\n",
    "    <li>What is the average rating across all companies?</li>\n",
    "    <li>Which companies have the highest and lowest average ratings?</li>\n",
    "    <li>What are the average scores for:</li>\n",
    "    <ul>\n",
    "        <li>Work-life balance</li>\n",
    "        <li>Culture and values</li>\n",
    "        <li>Career opportunities</li>\n",
    "        <li>Compensation and benefits</li>\n",
    "        <li>Senior management</li>\n",
    "    </ul>\n",
    "    <li>Which job titles have the highest and lowest average ratings?</li>\n",
    "    <li>How do the top 5 most-reviewed companies compare in each of the sub-ratings?</li>\n",
    "    <li>Which company has the highest positive recommendation percentage?</li>\n",
    "    <li>Is there a correlation between overall rating and recommend?</li>\n",
    "    <li>What is the proportion of current and former employees in the dataset?</li>\n",
    "</ol>\n",
    "</div>"
   ]
  },
  {
   "cell_type": "markdown",
   "id": "4d59f3c0-bf2c-4224-a28c-a6b379a40786",
   "metadata": {},
   "source": [
    "<div style=\"background-color:#fff9e6; padding:15px; border-left:6px solid #f39c12; border-radius:4px;\">\n",
    "  <h2 style=\"margin-top:0; color:#f39c12;\">Important Notes</h2>\n",
    "  <hr style=\"border: 1px solid #f39c12; margin-top:5px; margin-bottom:15px;\">\n",
    "\n",
    "-\tAlthough we can extract trends over time and regional differences using the <code>date_review</code> and <code>location</code> columns, we are not aiming to analyze time and geography. Hence, and for the sake of simplicity of this project, we will be ignoring those columns.\n",
    "-\tThe <code>diversity_inclusion</code> rating column will be dropped off the dataset as it is missing 84% values. The company has added this rating by the mid of 2020, which only covers a small portion of our dataset.\n",
    "-\tWe are not aiming to process open text questions and extract insights from written words, and hence the <code>headline</code>, <code>pros</code>, and <code>cons</code> columns will be ignored.\n",
    "-\tWith the selected columns that we will be working on, it was decided that any row with missing value will be dropped. Such data like ratings cannot be imputed or auto filled. \n",
    "\n",
    "</div>"
   ]
  },
  {
   "cell_type": "markdown",
   "id": "7fdd8c06-1278-478f-b4b0-74969ac5e753",
   "metadata": {},
   "source": [
    "<div style=\"background-color:#fff9e6; padding:15px; border-left:6px solid #f39c12; border-radius:4px;\">\n",
    "  <h2 style=\"margin-top:0; color:#f39c12;\">Improvements</h2>\n",
    "  <hr style=\"border: 1px solid #f39c12; margin-top:5px; margin-bottom:15px;\">\n",
    "\n",
    "-\tExplain how ratings vary by location.\n",
    "-\tExtract insights about the average rate plot over time.\n",
    "-\tFind the most common pros and cons for each firm.\n",
    "\n",
    "</div>"
   ]
  },
  {
   "cell_type": "markdown",
   "id": "845286d3-defb-43c6-959a-9553b35810dc",
   "metadata": {},
   "source": [
    "<div style=\"background-color:#eafaf1; padding:15px; border-left:6px solid #27ae60; border-radius:4px;\">\n",
    "  <h2 style=\"margin-top:0; color:#27ae60;\">Part 1: Exploring the Data</h2>\n",
    "</div>"
   ]
  },
  {
   "cell_type": "code",
   "execution_count": 1,
   "id": "f9a4dee7-58aa-4280-83d5-d7dc6ff537d0",
   "metadata": {},
   "outputs": [],
   "source": [
    "# Set the working directory\n",
    "import os\n",
    "os.chdir('..')"
   ]
  },
  {
   "cell_type": "code",
   "execution_count": 2,
   "id": "0c7c17c9-e764-4c02-a4f2-b07a68bbc631",
   "metadata": {},
   "outputs": [],
   "source": [
    "# Import pandas and numpy libraries\n",
    "import pandas as pd\n",
    "import numpy as np"
   ]
  },
  {
   "cell_type": "code",
   "execution_count": 3,
   "id": "72498e2f-ae69-4535-af3b-b8af5b8b3c80",
   "metadata": {},
   "outputs": [],
   "source": [
    "# Read the data\n",
    "df = pd.read_csv('data/raw/glassdoor_reviews.csv')"
   ]
  },
  {
   "cell_type": "code",
   "execution_count": 4,
   "id": "93489f3b-aae8-44a5-b5c4-04ee5f2c290c",
   "metadata": {},
   "outputs": [
    {
     "data": {
      "text/html": [
       "<div>\n",
       "<style scoped>\n",
       "    .dataframe tbody tr th:only-of-type {\n",
       "        vertical-align: middle;\n",
       "    }\n",
       "\n",
       "    .dataframe tbody tr th {\n",
       "        vertical-align: top;\n",
       "    }\n",
       "\n",
       "    .dataframe thead th {\n",
       "        text-align: right;\n",
       "    }\n",
       "</style>\n",
       "<table border=\"1\" class=\"dataframe\">\n",
       "  <thead>\n",
       "    <tr style=\"text-align: right;\">\n",
       "      <th></th>\n",
       "      <th>firm</th>\n",
       "      <th>date_review</th>\n",
       "      <th>job_title</th>\n",
       "      <th>current</th>\n",
       "      <th>location</th>\n",
       "      <th>overall_rating</th>\n",
       "      <th>work_life_balance</th>\n",
       "      <th>culture_values</th>\n",
       "      <th>diversity_inclusion</th>\n",
       "      <th>career_opp</th>\n",
       "      <th>comp_benefits</th>\n",
       "      <th>senior_mgmt</th>\n",
       "      <th>recommend</th>\n",
       "      <th>ceo_approv</th>\n",
       "      <th>outlook</th>\n",
       "      <th>headline</th>\n",
       "      <th>pros</th>\n",
       "      <th>cons</th>\n",
       "    </tr>\n",
       "  </thead>\n",
       "  <tbody>\n",
       "    <tr>\n",
       "      <th>0</th>\n",
       "      <td>AFH-Wealth-Management</td>\n",
       "      <td>2015-04-05</td>\n",
       "      <td></td>\n",
       "      <td>Current Employee</td>\n",
       "      <td>NaN</td>\n",
       "      <td>2</td>\n",
       "      <td>4.0</td>\n",
       "      <td>3.0</td>\n",
       "      <td>NaN</td>\n",
       "      <td>2.0</td>\n",
       "      <td>3.0</td>\n",
       "      <td>3.0</td>\n",
       "      <td>x</td>\n",
       "      <td>o</td>\n",
       "      <td>r</td>\n",
       "      <td>Young colleagues, poor micro management</td>\n",
       "      <td>Very friendly and welcoming to new staff. Easy...</td>\n",
       "      <td>Poor salaries, poor training and communication.</td>\n",
       "    </tr>\n",
       "    <tr>\n",
       "      <th>1</th>\n",
       "      <td>AFH-Wealth-Management</td>\n",
       "      <td>2015-12-11</td>\n",
       "      <td>Office Administrator</td>\n",
       "      <td>Current Employee, more than 1 year</td>\n",
       "      <td>Bromsgrove, England, England</td>\n",
       "      <td>2</td>\n",
       "      <td>3.0</td>\n",
       "      <td>1.0</td>\n",
       "      <td>NaN</td>\n",
       "      <td>2.0</td>\n",
       "      <td>1.0</td>\n",
       "      <td>4.0</td>\n",
       "      <td>x</td>\n",
       "      <td>o</td>\n",
       "      <td>r</td>\n",
       "      <td>Excellent staff, poor salary</td>\n",
       "      <td>Friendly, helpful and hard-working colleagues</td>\n",
       "      <td>Poor salary which doesn't improve much with pr...</td>\n",
       "    </tr>\n",
       "    <tr>\n",
       "      <th>2</th>\n",
       "      <td>AFH-Wealth-Management</td>\n",
       "      <td>2016-01-28</td>\n",
       "      <td>Office Administrator</td>\n",
       "      <td>Current Employee, less than 1 year</td>\n",
       "      <td>Bromsgrove, England, England</td>\n",
       "      <td>1</td>\n",
       "      <td>1.0</td>\n",
       "      <td>1.0</td>\n",
       "      <td>NaN</td>\n",
       "      <td>1.0</td>\n",
       "      <td>1.0</td>\n",
       "      <td>1.0</td>\n",
       "      <td>x</td>\n",
       "      <td>o</td>\n",
       "      <td>x</td>\n",
       "      <td>Low salary, bad micromanagement</td>\n",
       "      <td>Easy to get the job even without experience in...</td>\n",
       "      <td>Very low salary, poor working conditions, very...</td>\n",
       "    </tr>\n",
       "    <tr>\n",
       "      <th>3</th>\n",
       "      <td>AFH-Wealth-Management</td>\n",
       "      <td>2016-04-16</td>\n",
       "      <td></td>\n",
       "      <td>Current Employee</td>\n",
       "      <td>NaN</td>\n",
       "      <td>5</td>\n",
       "      <td>2.0</td>\n",
       "      <td>3.0</td>\n",
       "      <td>NaN</td>\n",
       "      <td>2.0</td>\n",
       "      <td>2.0</td>\n",
       "      <td>3.0</td>\n",
       "      <td>x</td>\n",
       "      <td>o</td>\n",
       "      <td>r</td>\n",
       "      <td>Over promised under delivered</td>\n",
       "      <td>Nice staff to work with</td>\n",
       "      <td>No career progression and salary is poor</td>\n",
       "    </tr>\n",
       "    <tr>\n",
       "      <th>4</th>\n",
       "      <td>AFH-Wealth-Management</td>\n",
       "      <td>2016-04-23</td>\n",
       "      <td>Office Administrator</td>\n",
       "      <td>Current Employee, more than 1 year</td>\n",
       "      <td>Bromsgrove, England, England</td>\n",
       "      <td>1</td>\n",
       "      <td>2.0</td>\n",
       "      <td>1.0</td>\n",
       "      <td>NaN</td>\n",
       "      <td>2.0</td>\n",
       "      <td>1.0</td>\n",
       "      <td>1.0</td>\n",
       "      <td>x</td>\n",
       "      <td>o</td>\n",
       "      <td>x</td>\n",
       "      <td>client reporting admin</td>\n",
       "      <td>Easy to get the job, Nice colleagues.</td>\n",
       "      <td>Abysmal pay, around minimum wage. No actual tr...</td>\n",
       "    </tr>\n",
       "  </tbody>\n",
       "</table>\n",
       "</div>"
      ],
      "text/plain": [
       "                    firm date_review              job_title  \\\n",
       "0  AFH-Wealth-Management  2015-04-05                          \n",
       "1  AFH-Wealth-Management  2015-12-11   Office Administrator   \n",
       "2  AFH-Wealth-Management  2016-01-28   Office Administrator   \n",
       "3  AFH-Wealth-Management  2016-04-16                          \n",
       "4  AFH-Wealth-Management  2016-04-23   Office Administrator   \n",
       "\n",
       "                              current                      location  \\\n",
       "0                    Current Employee                           NaN   \n",
       "1  Current Employee, more than 1 year  Bromsgrove, England, England   \n",
       "2  Current Employee, less than 1 year  Bromsgrove, England, England   \n",
       "3                    Current Employee                           NaN   \n",
       "4  Current Employee, more than 1 year  Bromsgrove, England, England   \n",
       "\n",
       "   overall_rating  work_life_balance  culture_values  diversity_inclusion  \\\n",
       "0               2                4.0             3.0                  NaN   \n",
       "1               2                3.0             1.0                  NaN   \n",
       "2               1                1.0             1.0                  NaN   \n",
       "3               5                2.0             3.0                  NaN   \n",
       "4               1                2.0             1.0                  NaN   \n",
       "\n",
       "   career_opp  comp_benefits  senior_mgmt recommend ceo_approv outlook  \\\n",
       "0         2.0            3.0          3.0         x          o       r   \n",
       "1         2.0            1.0          4.0         x          o       r   \n",
       "2         1.0            1.0          1.0         x          o       x   \n",
       "3         2.0            2.0          3.0         x          o       r   \n",
       "4         2.0            1.0          1.0         x          o       x   \n",
       "\n",
       "                                  headline  \\\n",
       "0  Young colleagues, poor micro management   \n",
       "1             Excellent staff, poor salary   \n",
       "2          Low salary, bad micromanagement   \n",
       "3            Over promised under delivered   \n",
       "4                   client reporting admin   \n",
       "\n",
       "                                                pros  \\\n",
       "0  Very friendly and welcoming to new staff. Easy...   \n",
       "1      Friendly, helpful and hard-working colleagues   \n",
       "2  Easy to get the job even without experience in...   \n",
       "3                            Nice staff to work with   \n",
       "4              Easy to get the job, Nice colleagues.   \n",
       "\n",
       "                                                cons  \n",
       "0    Poor salaries, poor training and communication.  \n",
       "1  Poor salary which doesn't improve much with pr...  \n",
       "2  Very low salary, poor working conditions, very...  \n",
       "3           No career progression and salary is poor  \n",
       "4  Abysmal pay, around minimum wage. No actual tr...  "
      ]
     },
     "execution_count": 4,
     "metadata": {},
     "output_type": "execute_result"
    }
   ],
   "source": [
    "# View the data\n",
    "df.head()"
   ]
  },
  {
   "cell_type": "code",
   "execution_count": 5,
   "id": "2d049688-28ab-4fec-b842-1a9d097b63c3",
   "metadata": {},
   "outputs": [
    {
     "data": {
      "text/plain": [
       "(838566, 18)"
      ]
     },
     "execution_count": 5,
     "metadata": {},
     "output_type": "execute_result"
    }
   ],
   "source": [
    "# Find the shape of the dataframe (number of rows and columns)\n",
    "df.shape"
   ]
  },
  {
   "cell_type": "code",
   "execution_count": 6,
   "id": "9b3889b9-8b8b-4eeb-a88d-4278536f0a7f",
   "metadata": {},
   "outputs": [
    {
     "data": {
      "text/plain": [
       "Index(['firm', 'date_review', 'job_title', 'current', 'location',\n",
       "       'overall_rating', 'work_life_balance', 'culture_values',\n",
       "       'diversity_inclusion', 'career_opp', 'comp_benefits', 'senior_mgmt',\n",
       "       'recommend', 'ceo_approv', 'outlook', 'headline', 'pros', 'cons'],\n",
       "      dtype='object')"
      ]
     },
     "execution_count": 6,
     "metadata": {},
     "output_type": "execute_result"
    }
   ],
   "source": [
    "# Identify the columns' names\n",
    "df.columns"
   ]
  },
  {
   "cell_type": "code",
   "execution_count": 7,
   "id": "fed4a68c-e4d2-4f69-a8c6-dd9414ad3021",
   "metadata": {},
   "outputs": [
    {
     "data": {
      "text/plain": [
       "firm                    object\n",
       "date_review             object\n",
       "job_title               object\n",
       "current                 object\n",
       "location                object\n",
       "overall_rating           int64\n",
       "work_life_balance      float64\n",
       "culture_values         float64\n",
       "diversity_inclusion    float64\n",
       "career_opp             float64\n",
       "comp_benefits          float64\n",
       "senior_mgmt            float64\n",
       "recommend               object\n",
       "ceo_approv              object\n",
       "outlook                 object\n",
       "headline                object\n",
       "pros                    object\n",
       "cons                    object\n",
       "dtype: object"
      ]
     },
     "execution_count": 7,
     "metadata": {},
     "output_type": "execute_result"
    }
   ],
   "source": [
    "# Identify the type of each column\n",
    "df.dtypes"
   ]
  },
  {
   "cell_type": "code",
   "execution_count": 8,
   "id": "c4a1ce44-f072-42e3-bb89-ea39de00c211",
   "metadata": {},
   "outputs": [
    {
     "name": "stdout",
     "output_type": "stream",
     "text": [
      "<class 'pandas.core.frame.DataFrame'>\n",
      "RangeIndex: 838566 entries, 0 to 838565\n",
      "Data columns (total 18 columns):\n",
      " #   Column               Non-Null Count   Dtype  \n",
      "---  ------               --------------   -----  \n",
      " 0   firm                 838566 non-null  object \n",
      " 1   date_review          838566 non-null  object \n",
      " 2   job_title            838566 non-null  object \n",
      " 3   current              838566 non-null  object \n",
      " 4   location             541223 non-null  object \n",
      " 5   overall_rating       838566 non-null  int64  \n",
      " 6   work_life_balance    688672 non-null  float64\n",
      " 7   culture_values       647193 non-null  float64\n",
      " 8   diversity_inclusion  136066 non-null  float64\n",
      " 9   career_opp           691065 non-null  float64\n",
      " 10  comp_benefits        688484 non-null  float64\n",
      " 11  senior_mgmt          682690 non-null  float64\n",
      " 12  recommend            838566 non-null  object \n",
      " 13  ceo_approv           838566 non-null  object \n",
      " 14  outlook              838566 non-null  object \n",
      " 15  headline             835976 non-null  object \n",
      " 16  pros                 838564 non-null  object \n",
      " 17  cons                 838553 non-null  object \n",
      "dtypes: float64(6), int64(1), object(11)\n",
      "memory usage: 115.2+ MB\n"
     ]
    }
   ],
   "source": [
    "# Count non-null values in each column\n",
    "df.info()"
   ]
  },
  {
   "cell_type": "code",
   "execution_count": 9,
   "id": "8e7603db-03b1-48dc-b947-51b3f743a14e",
   "metadata": {},
   "outputs": [
    {
     "data": {
      "text/plain": [
       "firm                        0\n",
       "date_review                 0\n",
       "job_title                   0\n",
       "current                     0\n",
       "location               297343\n",
       "overall_rating              0\n",
       "work_life_balance      149894\n",
       "culture_values         191373\n",
       "diversity_inclusion    702500\n",
       "career_opp             147501\n",
       "comp_benefits          150082\n",
       "senior_mgmt            155876\n",
       "recommend                   0\n",
       "ceo_approv                  0\n",
       "outlook                     0\n",
       "headline                 2590\n",
       "pros                        2\n",
       "cons                       13\n",
       "dtype: int64"
      ]
     },
     "execution_count": 9,
     "metadata": {},
     "output_type": "execute_result"
    }
   ],
   "source": [
    "# Count null values in each column\n",
    "df.isnull().sum()"
   ]
  },
  {
   "cell_type": "code",
   "execution_count": 10,
   "id": "2e7d0139-1f26-46ba-a900-151b06fcc07b",
   "metadata": {},
   "outputs": [
    {
     "data": {
      "text/html": [
       "<div>\n",
       "<style scoped>\n",
       "    .dataframe tbody tr th:only-of-type {\n",
       "        vertical-align: middle;\n",
       "    }\n",
       "\n",
       "    .dataframe tbody tr th {\n",
       "        vertical-align: top;\n",
       "    }\n",
       "\n",
       "    .dataframe thead th {\n",
       "        text-align: right;\n",
       "    }\n",
       "</style>\n",
       "<table border=\"1\" class=\"dataframe\">\n",
       "  <thead>\n",
       "    <tr style=\"text-align: right;\">\n",
       "      <th></th>\n",
       "      <th>overall_rating</th>\n",
       "      <th>work_life_balance</th>\n",
       "      <th>culture_values</th>\n",
       "      <th>diversity_inclusion</th>\n",
       "      <th>career_opp</th>\n",
       "      <th>comp_benefits</th>\n",
       "      <th>senior_mgmt</th>\n",
       "    </tr>\n",
       "  </thead>\n",
       "  <tbody>\n",
       "    <tr>\n",
       "      <th>count</th>\n",
       "      <td>838566.000000</td>\n",
       "      <td>688672.000000</td>\n",
       "      <td>647193.000000</td>\n",
       "      <td>136066.000000</td>\n",
       "      <td>691065.000000</td>\n",
       "      <td>688484.000000</td>\n",
       "      <td>682690.000000</td>\n",
       "    </tr>\n",
       "    <tr>\n",
       "      <th>mean</th>\n",
       "      <td>3.655956</td>\n",
       "      <td>3.375735</td>\n",
       "      <td>3.590164</td>\n",
       "      <td>3.966612</td>\n",
       "      <td>3.461825</td>\n",
       "      <td>3.398109</td>\n",
       "      <td>3.176576</td>\n",
       "    </tr>\n",
       "    <tr>\n",
       "      <th>std</th>\n",
       "      <td>1.174684</td>\n",
       "      <td>1.305874</td>\n",
       "      <td>1.323280</td>\n",
       "      <td>1.190937</td>\n",
       "      <td>1.271295</td>\n",
       "      <td>1.218738</td>\n",
       "      <td>1.330720</td>\n",
       "    </tr>\n",
       "    <tr>\n",
       "      <th>min</th>\n",
       "      <td>1.000000</td>\n",
       "      <td>1.000000</td>\n",
       "      <td>1.000000</td>\n",
       "      <td>1.000000</td>\n",
       "      <td>1.000000</td>\n",
       "      <td>1.000000</td>\n",
       "      <td>1.000000</td>\n",
       "    </tr>\n",
       "    <tr>\n",
       "      <th>25%</th>\n",
       "      <td>3.000000</td>\n",
       "      <td>2.000000</td>\n",
       "      <td>3.000000</td>\n",
       "      <td>3.000000</td>\n",
       "      <td>3.000000</td>\n",
       "      <td>3.000000</td>\n",
       "      <td>2.000000</td>\n",
       "    </tr>\n",
       "    <tr>\n",
       "      <th>50%</th>\n",
       "      <td>4.000000</td>\n",
       "      <td>4.000000</td>\n",
       "      <td>4.000000</td>\n",
       "      <td>4.000000</td>\n",
       "      <td>4.000000</td>\n",
       "      <td>3.000000</td>\n",
       "      <td>3.000000</td>\n",
       "    </tr>\n",
       "    <tr>\n",
       "      <th>75%</th>\n",
       "      <td>5.000000</td>\n",
       "      <td>4.000000</td>\n",
       "      <td>5.000000</td>\n",
       "      <td>5.000000</td>\n",
       "      <td>5.000000</td>\n",
       "      <td>4.000000</td>\n",
       "      <td>4.000000</td>\n",
       "    </tr>\n",
       "    <tr>\n",
       "      <th>max</th>\n",
       "      <td>5.000000</td>\n",
       "      <td>5.000000</td>\n",
       "      <td>5.000000</td>\n",
       "      <td>5.000000</td>\n",
       "      <td>5.000000</td>\n",
       "      <td>5.000000</td>\n",
       "      <td>5.000000</td>\n",
       "    </tr>\n",
       "  </tbody>\n",
       "</table>\n",
       "</div>"
      ],
      "text/plain": [
       "       overall_rating  work_life_balance  culture_values  diversity_inclusion  \\\n",
       "count   838566.000000      688672.000000   647193.000000        136066.000000   \n",
       "mean         3.655956           3.375735        3.590164             3.966612   \n",
       "std          1.174684           1.305874        1.323280             1.190937   \n",
       "min          1.000000           1.000000        1.000000             1.000000   \n",
       "25%          3.000000           2.000000        3.000000             3.000000   \n",
       "50%          4.000000           4.000000        4.000000             4.000000   \n",
       "75%          5.000000           4.000000        5.000000             5.000000   \n",
       "max          5.000000           5.000000        5.000000             5.000000   \n",
       "\n",
       "          career_opp  comp_benefits    senior_mgmt  \n",
       "count  691065.000000  688484.000000  682690.000000  \n",
       "mean        3.461825       3.398109       3.176576  \n",
       "std         1.271295       1.218738       1.330720  \n",
       "min         1.000000       1.000000       1.000000  \n",
       "25%         3.000000       3.000000       2.000000  \n",
       "50%         4.000000       3.000000       3.000000  \n",
       "75%         5.000000       4.000000       4.000000  \n",
       "max         5.000000       5.000000       5.000000  "
      ]
     },
     "execution_count": 10,
     "metadata": {},
     "output_type": "execute_result"
    }
   ],
   "source": [
    "# Explore the descriptive statistics of the numeric columns\n",
    "df.describe()"
   ]
  },
  {
   "cell_type": "code",
   "execution_count": 11,
   "id": "0c23d11d-1f79-4950-90ef-71d6b6f685cb",
   "metadata": {},
   "outputs": [
    {
     "data": {
      "text/html": [
       "<div>\n",
       "<style scoped>\n",
       "    .dataframe tbody tr th:only-of-type {\n",
       "        vertical-align: middle;\n",
       "    }\n",
       "\n",
       "    .dataframe tbody tr th {\n",
       "        vertical-align: top;\n",
       "    }\n",
       "\n",
       "    .dataframe thead th {\n",
       "        text-align: right;\n",
       "    }\n",
       "</style>\n",
       "<table border=\"1\" class=\"dataframe\">\n",
       "  <thead>\n",
       "    <tr style=\"text-align: right;\">\n",
       "      <th></th>\n",
       "      <th>firm</th>\n",
       "      <th>date_review</th>\n",
       "      <th>job_title</th>\n",
       "      <th>current</th>\n",
       "      <th>location</th>\n",
       "      <th>recommend</th>\n",
       "      <th>ceo_approv</th>\n",
       "      <th>outlook</th>\n",
       "      <th>headline</th>\n",
       "      <th>pros</th>\n",
       "      <th>cons</th>\n",
       "    </tr>\n",
       "  </thead>\n",
       "  <tbody>\n",
       "    <tr>\n",
       "      <th>count</th>\n",
       "      <td>838566</td>\n",
       "      <td>838566</td>\n",
       "      <td>838566</td>\n",
       "      <td>838566</td>\n",
       "      <td>541223</td>\n",
       "      <td>838566</td>\n",
       "      <td>838566</td>\n",
       "      <td>838566</td>\n",
       "      <td>835976</td>\n",
       "      <td>838564</td>\n",
       "      <td>838553</td>\n",
       "    </tr>\n",
       "    <tr>\n",
       "      <th>unique</th>\n",
       "      <td>428</td>\n",
       "      <td>4813</td>\n",
       "      <td>62275</td>\n",
       "      <td>29</td>\n",
       "      <td>14486</td>\n",
       "      <td>3</td>\n",
       "      <td>4</td>\n",
       "      <td>4</td>\n",
       "      <td>390454</td>\n",
       "      <td>778559</td>\n",
       "      <td>777133</td>\n",
       "    </tr>\n",
       "    <tr>\n",
       "      <th>top</th>\n",
       "      <td>IBM</td>\n",
       "      <td>2021-01-13</td>\n",
       "      <td>Anonymous Employee</td>\n",
       "      <td>Current Employee</td>\n",
       "      <td>London, England, England</td>\n",
       "      <td>v</td>\n",
       "      <td>o</td>\n",
       "      <td>v</td>\n",
       "      <td>Good</td>\n",
       "      <td>Great company to work for</td>\n",
       "      <td>None that I can think of</td>\n",
       "    </tr>\n",
       "    <tr>\n",
       "      <th>freq</th>\n",
       "      <td>60436</td>\n",
       "      <td>1761</td>\n",
       "      <td>162649</td>\n",
       "      <td>209599</td>\n",
       "      <td>58665</td>\n",
       "      <td>427865</td>\n",
       "      <td>311433</td>\n",
       "      <td>301413</td>\n",
       "      <td>14300</td>\n",
       "      <td>720</td>\n",
       "      <td>1156</td>\n",
       "    </tr>\n",
       "  </tbody>\n",
       "</table>\n",
       "</div>"
      ],
      "text/plain": [
       "          firm date_review            job_title           current  \\\n",
       "count   838566      838566               838566            838566   \n",
       "unique     428        4813                62275                29   \n",
       "top        IBM  2021-01-13   Anonymous Employee  Current Employee   \n",
       "freq     60436        1761               162649            209599   \n",
       "\n",
       "                        location recommend ceo_approv outlook headline  \\\n",
       "count                     541223    838566     838566  838566   835976   \n",
       "unique                     14486         3          4       4   390454   \n",
       "top     London, England, England         v          o       v     Good   \n",
       "freq                       58665    427865     311433  301413    14300   \n",
       "\n",
       "                             pros                      cons  \n",
       "count                      838564                    838553  \n",
       "unique                     778559                    777133  \n",
       "top     Great company to work for  None that I can think of  \n",
       "freq                          720                      1156  "
      ]
     },
     "execution_count": 11,
     "metadata": {},
     "output_type": "execute_result"
    }
   ],
   "source": [
    "# Explore the descriptive statistics of the non-numeric columns\n",
    "df.describe(include = 'object')"
   ]
  },
  {
   "cell_type": "markdown",
   "id": "26f4387d-62f3-46f7-ae3e-a44d2040e294",
   "metadata": {},
   "source": [
    "<div style=\"background-color:#eafaf1; padding:15px; border-left:6px solid #27ae60; border-radius:4px;\">\n",
    "  <h2 style=\"margin-top:0; color:#27ae60;\">Part 2: Processing the Data</h2>\n",
    "</div>"
   ]
  },
  {
   "cell_type": "markdown",
   "id": "044c4c65-94cb-49b4-b1b0-8f6735d2372b",
   "metadata": {},
   "source": [
    "<div style=\"background-color:#f3eafc; padding:15px; border-left:6px solid #8e44ad; border-radius:4px;\">\n",
    "  <h3 style=\"margin-top:0; color:#8e44ad;\">Processing <code>firm</code> Column</h3>\n",
    "</div>"
   ]
  },
  {
   "cell_type": "code",
   "execution_count": 12,
   "id": "9026bdb1-65a0-4bec-8ef5-7d5c3cfdfbaf",
   "metadata": {},
   "outputs": [
    {
     "data": {
      "text/plain": [
       "array(['AFH-Wealth-Management', 'AJ-Bell', 'ALDI', 'AQA', 'ASDA', 'ASOS',\n",
       "       'AXA-UK', 'Abcam',\n",
       "       'Abertawe-Bro-Morgannwg-University-Health-Board', 'Accenture',\n",
       "       'Accor', 'Achieving-for-Children', 'ActionCOACH',\n",
       "       'Active-Care-Group', 'Adecco', 'Age-UK-The-National-Charity',\n",
       "       'AlixPartners', 'American-Express', 'Amey', 'Angard-Staffing',\n",
       "       'Anglian-Water', 'Anglo-American',\n",
       "       'Animal-and-Plant-Health-Agency', 'Aon', 'Apple', 'Arcadia',\n",
       "       'Arnold-Clark', 'AstraZeneca', 'Aviva', 'B-and-M-Retail',\n",
       "       'B-and-Q', 'BAT', 'BBC', 'BDO', 'BHS', 'BIS', 'BNP-Paribas',\n",
       "       'BNY-Mellon', 'BP', 'BPP-Holdings', 'BT',\n",
       "       'Babcock-International-Group', 'Babylon-Health',\n",
       "       'Bain-and-Company', 'Balfour-Beatty', 'Bannatyne-Group',\n",
       "       'Barchester-Healthcare', 'Barclays', 'Barnardo-s',\n",
       "       'Barnet-and-Chase-Farm-Hospitals-NHS-Trust', 'Barnett-Waddingham',\n",
       "       'Barratt-Developments', 'Barts-Health-NHS-Trust',\n",
       "       'BayWa-r-e-renewable-energy', 'Bayer', 'Best-Western',\n",
       "       'Betsi-Cadwaladr-University-Health-Board',\n",
       "       'Bill-and-Melinda-Gates-Foundation', 'Birkbeck-College',\n",
       "       'Birmingham-City-University', 'Bloomberg-L-P', 'Blue-Arrow',\n",
       "       'Blue-Yonder', 'Booking-com', 'Boots', 'Boots-Opticians',\n",
       "       'Boston-Consulting-Group', 'Brewin-Dolphin', 'British-Airways',\n",
       "       'British-Red-Cross', 'Brook-Street', 'Bullhorn', 'Bupa',\n",
       "       'Burberry', 'CBRE', 'CVS-Group', 'Cambridge-Assessment', 'Capita',\n",
       "       'Capital-Group', 'CarShop-UK', 'Cardiff-University', 'Care-UK',\n",
       "       'Career-Legal', 'Christie-s', 'Cisco-Systems', 'Citi',\n",
       "       'Citizens-Advice', 'CityFibre', 'Civil-Service-United-Kingdom',\n",
       "       'Co-op', 'Colosseum-Dental', 'Colt-Technology-Services',\n",
       "       'Communities-and-Local-Government', 'Companies-House',\n",
       "       'Compass-Group', 'Cougar-Mountain', 'Countrywide-plc',\n",
       "       'Covea-Insurance', 'Coventry-University', 'Creative-Support',\n",
       "       'Cromwell-Tools', 'Crown-Prosecution-Service',\n",
       "       'Crowne-Plaza-Hotels-and-Resorts', 'Curtis-Banks',\n",
       "       'Cushman-and-Wakefield', 'Cygnet-Health-Care', 'DFID',\n",
       "       'DFS-Furniture', 'DHL-Supply-Chain', 'DPDgroup', 'DWF',\n",
       "       'Dalata-Hotel-Group', 'David-Lloyd-Leisure', 'Debenhams',\n",
       "       'Deloitte', 'Department-for-Work-And-Pensions',\n",
       "       'Department-of-Health-UK', 'Deutsche-Bank', 'Diageo', 'Diligenta',\n",
       "       'Dixons-Carphone', 'Doubletree-By-Hilton', 'Durham-County-Council',\n",
       "       'Dynatrace', 'EBRD', 'ENABLE-Scotland', 'ENGIE', 'EY',\n",
       "       'East-Sussex-County-Council', 'Egon-Zehnder',\n",
       "       'Engineering-and-Physical-Sciences-Research-Council', 'Equiniti',\n",
       "       'Eversheds-Sutherland', 'Everyone-Active', 'FARFETCH', 'FYXER',\n",
       "       'Facebook', 'FirstPort', 'Foreign-and-Commonwealth-Office',\n",
       "       'Four-Seasons-Health-Care', 'Foxtons',\n",
       "       'Freshfields-Bruckhaus-Deringer', 'GLL',\n",
       "       'GTR-Govia-Thameslink-Railway', 'Gateley', 'Gi-Group',\n",
       "       'GlaxoSmithKline', 'Goldman-Sachs', 'Google', 'Grange-Hotels',\n",
       "       'Grant-Thornton', 'Grant-Thornton-UK-LLP', 'Grosvenor-Casinos',\n",
       "       'Guardian-News-and-Media',\n",
       "       'Guy-s-and-St-Thomas-NHS-Foundation-Trust', 'Gymbox', 'H-and-M',\n",
       "       'HC-One', 'HM-Courts-and-Tribunals-Service', 'HM-Prison-Service',\n",
       "       'HM-Treasury', 'HMCTS', 'HSBC-Holdings',\n",
       "       'Hampshire-County-Council', 'Harris-Federation', 'Harrods',\n",
       "       'Harvey-Nichols', 'Hastings-Direct', 'Hays',\n",
       "       'Health-Education-England', 'Health-Protection-Agency',\n",
       "       'Her-Majesty-s-Revenue-and-Customs', 'Hilton',\n",
       "       'Hitachi-Capital-UK', 'Holiday-Inn', 'Holiday-Inn-Express',\n",
       "       'Home-Group', 'Home-Office', 'Hyatt', 'IBM',\n",
       "       'IHG-Hotels-and-Resorts', 'ISS-Facility-Services',\n",
       "       'Immediate-Media-Company', 'Imperial-College-London', 'Indeed',\n",
       "       'Intelligent-Office-UK', 'Interserve', 'Iron-Mountain-Inc',\n",
       "       'Irwin-Mitchell', 'J-P-Morgan', 'J-Sainsbury', 'JLL', 'JLT-Group',\n",
       "       'JP-Boden-and-Co', 'Jaguar-Land-Rover', 'James-Hay-Partnership',\n",
       "       'John-Lewis-and-Partners', 'Jurys-Inns', 'KKR', 'KPMG',\n",
       "       'Kent-County-Council', 'Kier-Group', 'King-s-College-London',\n",
       "       'Kingsley-Healthcare', 'Knight-Frank', 'Korn-Ferry', 'Kurt-Geiger',\n",
       "       'LGT-Group', 'LSE', 'LV', 'Lancaster-University',\n",
       "       'Latham-and-Watkins', 'Leaders-Romans-Group', 'Leeds-City-Council',\n",
       "       'Legal-and-General', 'Leonardo-Hotels', 'Lidl', 'Link-Group',\n",
       "       'LinkedIn', 'Lloyds-Banking-Group', 'London-Underground',\n",
       "       'Loughborough-University', 'Macdonald-Hotels-and-Resorts',\n",
       "       'Malmaison', 'Manchester-Metropolitan-University', 'Manpower',\n",
       "       'Marks-and-Spencer', 'Marriott-International', 'Mastercard',\n",
       "       'McDonald-s', 'McKinsey-and-Company', 'Mears', 'Mercer',\n",
       "       'Met-Office', 'Metro-Bank', 'Michelmores', 'Microsoft',\n",
       "       'Ministry-of-Justice-UK', 'Missguided', 'Mitie', 'Moneypenny',\n",
       "       'Morgan-Stanley', 'Morrisons', 'Mountain-Warehouse', 'MyCSP',\n",
       "       'NHS', 'NHS-England', 'NHS-Professionals', 'NPSA',\n",
       "       'Nando-s-UK-and-IRE',\n",
       "       'National-Institute-for-Health-and-Care-Excellence',\n",
       "       'National-Offender-Management-Service', 'National-Star',\n",
       "       'Nationwide-Building-Society', 'Network-Rail', 'New-Look',\n",
       "       'Newcastle-Upon-Tyne-Hospitals-NHS',\n",
       "       'North-Yorkshire-County-Council', 'Northern-Gas-and-Power',\n",
       "       'Northern-Ireland-Civil-Service', 'Novotel-Hotels',\n",
       "       'Nuffield-Health', 'Odgers-Berndtson', 'Office-Angels',\n",
       "       'Office-Concierge', 'Office-for-National-Statistics',\n",
       "       'Office-of-Rail-Regulation', 'Oliver-Bonas', 'Oliver-Wyman',\n",
       "       'Oracle', 'Orbit-Group', 'Ordnance-Survey', 'Oxford-University',\n",
       "       'Oxford-University-Press', 'Pearson', 'Penderels-Trust',\n",
       "       'Penguin-Random-House', 'People-Group', 'Pertemps', 'Pizza-Hut',\n",
       "       'Portico', 'Post-Office', 'Premier-Inn', 'Primark', 'Priory-Group',\n",
       "       'Public-Health-England', 'PwC', 'Queen-s-University-Belfast',\n",
       "       'REED', 'RSM', 'RWE-Supply-and-Trading', 'Radisson-Hotel-Group',\n",
       "       'Randstad', 'Rapport-London', 'Rathbone-Brothers', 'Reassured',\n",
       "       'Rendall-and-Rittner', 'Rentokil-Initial', 'River-Island-Clothing',\n",
       "       'Robert-Walters', 'Roche', 'Rodericks-Dental', 'Royal-Mail',\n",
       "       'Rural-Payments-Agency', 'Ryan-LLC', 'SAP', 'SSE', 'Sage',\n",
       "       'Sainsbury-s', 'Salesforce', 'Sanctuary-Group', 'Santander',\n",
       "       'Savills', 'ScS-Sofas', 'Scottish-Courts-and-Tribunals-Service',\n",
       "       'Scottish-Government', 'Scottish-Widows', 'Search-Consultancy',\n",
       "       'Serco-Group', 'Skipton-Building-Society', 'Sky', 'Sodexo',\n",
       "       'Somerset-County-Council',\n",
       "       'Somerset-Partnership-NHS-Foundation-Trust', 'Sotheby-s',\n",
       "       'Southern-Health-and-Social-Care-Trust', 'Specsavers',\n",
       "       'Spire-Healthcare', 'Sport-England', 'Square-Enix',\n",
       "       'St-James-s-Place-Wealth-Management', 'Standard-Life-Aberdeen',\n",
       "       'Student-Loans-Company', 'Surrey-County-Council', 'Sytner', 'TLT',\n",
       "       'TUI-Group', 'Tate', 'Tate-Recruitment', 'Taylor-Wimpey',\n",
       "       'Tengizchevroil', 'Tesco', 'The-Access-Group-UK',\n",
       "       'The-British-Army',\n",
       "       'The-Church-of-Jesus-Christ-of-Latter-day-Saints',\n",
       "       'The-Coal-Authority', 'The-Department-for-Education-UK',\n",
       "       'The-Ivy-Collection', 'The-London-Clinic', 'The-National-Gallery',\n",
       "       'The-Open-University', 'The-Range',\n",
       "       'The-Royal-Marsden-NHS-Foundation-Trust', 'The-Salvation-Army',\n",
       "       'The-Survey-Association', 'The-White-Company', 'Thomas-Cook',\n",
       "       'Thomson-Reuters', 'Time-Etc', 'Topshop', 'Tower-Hamlets-Council',\n",
       "       'Transport-for-London', 'Travelodge-Hotels-UK', 'UHMBT',\n",
       "       'UK-Atomic-Energy-Authority', 'UK-Border-Agency',\n",
       "       'UK-Ministry-of-Defence', 'UKCIL', 'Unilever', 'United-Utilities',\n",
       "       'Unity-Technologies', 'University-College-London',\n",
       "       'University-College-London-Hospitals',\n",
       "       'University-Hospitals-of-Leicester', 'University-of-Bath',\n",
       "       'University-of-Birmingham', 'University-of-Bradford',\n",
       "       'University-of-Bristol', 'University-of-Cambridge',\n",
       "       'University-of-Durham', 'University-of-Edinburgh',\n",
       "       'University-of-Glasgow', 'University-of-Huddersfield',\n",
       "       'University-of-Hull', 'University-of-Leeds',\n",
       "       'University-of-Leicester', 'University-of-Liverpool',\n",
       "       'University-of-Manchester', 'University-of-Michigan',\n",
       "       'University-of-Newcastle-UK', 'University-of-Nottingham',\n",
       "       'University-of-Reading', 'University-of-Sheffield',\n",
       "       'University-of-Southampton', 'University-of-Strathclyde',\n",
       "       'University-of-Warwick', 'University-of-York',\n",
       "       'University-of-the-Arts-London',\n",
       "       'University-of-the-West-of-England', 'VMware',\n",
       "       'Valuation-Office-Agency', 'Veolia', 'Vets-Now', 'Vets4Pets',\n",
       "       'Virgin-Active', 'Virgin-Media', 'Vodafone', 'WHSmith',\n",
       "       'WLT-Group', 'Waitrose', 'Wakefield-Council',\n",
       "       'Wellington-Management', 'West-Sussex-County-Council',\n",
       "       'Western-Health-and-Social-Care-Trust', 'Whitbread',\n",
       "       'Willis-Towers-Watson', 'Willmott-Dixon', 'Wipro', 'Wise',\n",
       "       'Workday', 'XPO-Logistics', 'XPS-Pensions-Group',\n",
       "       'YOOX-NET-A-PORTER-GROUP', 'i-Net-Solution', 'ibis',\n",
       "       'mydentist-UK', 'next', 'the-LEGO-Group'], dtype=object)"
      ]
     },
     "execution_count": 12,
     "metadata": {},
     "output_type": "execute_result"
    }
   ],
   "source": [
    "# find unique values\n",
    "df['firm'].unique()"
   ]
  },
  {
   "cell_type": "code",
   "execution_count": 13,
   "id": "ff0c47b5-78a1-4de3-8442-037008d0bc44",
   "metadata": {},
   "outputs": [
    {
     "data": {
      "text/plain": [
       "428"
      ]
     },
     "execution_count": 13,
     "metadata": {},
     "output_type": "execute_result"
    }
   ],
   "source": [
    "# Count unique values\n",
    "df['firm'].nunique()"
   ]
  },
  {
   "cell_type": "code",
   "execution_count": 14,
   "id": "3fcbf1f0-f775-488a-ae3c-9d885b5db25a",
   "metadata": {},
   "outputs": [],
   "source": [
    "# Remove whitespaces (if any)\n",
    "df['firm'] = df['firm'].str.strip()"
   ]
  },
  {
   "cell_type": "markdown",
   "id": "bc5bf289-8c75-4094-90c5-2b7aa580c0fa",
   "metadata": {},
   "source": [
    "<div style=\"background-color:#f3eafc; padding:15px; border-left:6px solid #8e44ad; border-radius:4px;\">\n",
    "  <h3 style=\"margin-top:0; color:#8e44ad;\">Processing <code>date_review</code> Column</h3>\n",
    "</div>"
   ]
  },
  {
   "cell_type": "code",
   "execution_count": 15,
   "id": "93ef3bd6-0b67-4637-93cf-ba0276d0dafc",
   "metadata": {},
   "outputs": [],
   "source": [
    "# We have noticed some coded dates. \n",
    "# Convert the date to datetime format\n",
    "df['date_review'] = pd.to_datetime(df['date_review'], errors='coerce')"
   ]
  },
  {
   "cell_type": "code",
   "execution_count": 16,
   "id": "547b6f03-7452-4353-8777-5b46ea795f27",
   "metadata": {},
   "outputs": [
    {
     "data": {
      "text/plain": [
       "Timestamp('2008-01-31 00:00:00')"
      ]
     },
     "execution_count": 16,
     "metadata": {},
     "output_type": "execute_result"
    }
   ],
   "source": [
    "# Find start date\n",
    "df['date_review'].min()"
   ]
  },
  {
   "cell_type": "code",
   "execution_count": 17,
   "id": "cad72e02-1151-4ab6-83f8-e137ddaf044f",
   "metadata": {},
   "outputs": [
    {
     "data": {
      "text/plain": [
       "Timestamp('2021-06-08 00:00:00')"
      ]
     },
     "execution_count": 17,
     "metadata": {},
     "output_type": "execute_result"
    }
   ],
   "source": [
    "# Find end date\n",
    "df['date_review'].max()"
   ]
  },
  {
   "cell_type": "markdown",
   "id": "a2349caf-75cd-41ff-9128-cbed3c8bc8f4",
   "metadata": {},
   "source": [
    "<div style=\"background-color:#f3eafc; padding:15px; border-left:6px solid #8e44ad; border-radius:4px;\">\n",
    "  <h3 style=\"margin-top:0; color:#8e44ad;\">Processing <code>job_title</code> Column</h3>\n",
    "</div>"
   ]
  },
  {
   "cell_type": "code",
   "execution_count": 18,
   "id": "0abde597-474c-4d78-93f9-08636b530bd5",
   "metadata": {},
   "outputs": [
    {
     "data": {
      "text/plain": [
       "array([' ', ' Office Administrator', ' IFA', ...,\n",
       "       ' Seasonal Ride Operator/Attendant', ' Service Employee',\n",
       "       ' Senior Experience Designer'], dtype=object)"
      ]
     },
     "execution_count": 18,
     "metadata": {},
     "output_type": "execute_result"
    }
   ],
   "source": [
    "# Find unique values\n",
    "df['job_title'].unique()"
   ]
  },
  {
   "cell_type": "code",
   "execution_count": 19,
   "id": "d619d9b1-f84e-45d5-9418-17a136f46efb",
   "metadata": {},
   "outputs": [
    {
     "data": {
      "text/plain": [
       "62275"
      ]
     },
     "execution_count": 19,
     "metadata": {},
     "output_type": "execute_result"
    }
   ],
   "source": [
    "# Count unique values\n",
    "df['job_title'].nunique()"
   ]
  },
  {
   "cell_type": "code",
   "execution_count": 20,
   "id": "5334233b-72a5-4b0a-8ac6-425244991168",
   "metadata": {},
   "outputs": [],
   "source": [
    "# Remove whitespaces\n",
    "df['job_title'] = df['job_title'].str.strip()"
   ]
  },
  {
   "cell_type": "code",
   "execution_count": 21,
   "id": "2aa94b89-e28f-41ec-8617-95805b2847e9",
   "metadata": {},
   "outputs": [
    {
     "data": {
      "text/plain": [
       "0                                        \n",
       "1                    Office Administrator\n",
       "2                    Office Administrator\n",
       "3                                        \n",
       "4                    Office Administrator\n",
       "                       ...               \n",
       "838561                  Marketing Manager\n",
       "838562                    Sales Associate\n",
       "838563                         Strategist\n",
       "838564    Customer Service Representative\n",
       "838565         Human Resources Specialist\n",
       "Name: job_title, Length: 838566, dtype: object"
      ]
     },
     "execution_count": 21,
     "metadata": {},
     "output_type": "execute_result"
    }
   ],
   "source": [
    "df['job_title']"
   ]
  },
  {
   "cell_type": "code",
   "execution_count": 22,
   "id": "efae0563-4f09-4d57-b497-2b795748a6c8",
   "metadata": {},
   "outputs": [],
   "source": [
    "df['job_title'] = df['job_title'].str.lower()"
   ]
  },
  {
   "cell_type": "code",
   "execution_count": 23,
   "id": "55dcba9a-8421-4644-a672-c7866c1dc2ef",
   "metadata": {},
   "outputs": [],
   "source": [
    "null_titles = [\n",
    "    '\"20 hours\"',\n",
    "    '\"dedicated to enjoyment\" most of the time : )',\n",
    "    '\"good place to work\"',\n",
    "    '\"myadmin concierge\"',\n",
    "    \"'anonymous'\",\n",
    "    \"'here to help' team\",\n",
    "    '\"management\"',\n",
    "    '\"sales\"',\n",
    "    '\"digital\"',\n",
    "    '&quot; vp&quot; of business development',\n",
    "    'zzz',\n",
    "    'a bit of everything',\n",
    "    'worst company about policies',\n",
    "    'worst company ever',\n",
    "    '',\n",
    "    'aaaa',\n",
    "    'aaaaa',\n",
    "    'about me',\n",
    "    'a day in the life',\n",
    "    'a c',\n",
    "    'a great place to work',\n",
    "    'yes',\n",
    "    'worst place to work'\n",
    "]\n",
    "\n",
    "df['job_title'] = df['job_title'].replace(null_titles, np.nan)"
   ]
  },
  {
   "cell_type": "code",
   "execution_count": 24,
   "id": "db57d8c1-d155-41dc-8560-332909d64845",
   "metadata": {},
   "outputs": [],
   "source": [
    "fix_titles = {\n",
    "    '\"salesmanager\"': \"sales manager\",\n",
    "    '\"brick specialist\"': \"brick specialist\",\n",
    "    '\"hr executive': \"hr executive\",\n",
    "    '\"server\"': \"server\",\n",
    "    '\"shift manager\"': \"shift manager\",\n",
    "    '\"team leader\"': \"team leader\",\n",
    "    '\"vp\" of business development': \"vp of business development\",\n",
    "    \"'supervising' sales assistant\": \"supervising sales assistant\",\n",
    "    '( car park attendant)trolley jockey)': \"car park attendant / trolley jockey\",\n",
    "    '(aha) mac+ tier i technical support': \"mac+ tier i technical support\",\n",
    "    '(christmas) customer assistant': \"customer assistant (christmas)\",\n",
    "    '(devops/azure/cloud engineer': \"devops / azure / cloud engineer\",\n",
    "    '(headoffice role)': \"head office role\",\n",
    "    'sales, marketing and business intelligence analyst': \n",
    "        \"sales & marketing and business intelligence analyst\",\n",
    "    'apecialist':'specialist',\n",
    "    'multi skilled': 'multi skilled agent',\n",
    "    'a g m': 'general manager',\n",
    "    'a engineer': 'engineer',\n",
    "    'filed sales executive': 'field sales executive',\n",
    "    'abm': 'account-based marketing',\n",
    "    'aba': 'applied behaviour analysis',\n",
    "    'aa advisor aha': 'help advisor',\n",
    "    'wpr in cisco': 'wireless performance reporting',\n",
    "    'operario de producci n': 'production operator'\n",
    "}\n",
    "\n",
    "df['job_title'] = df['job_title'].replace(fix_titles)"
   ]
  },
  {
   "cell_type": "code",
   "execution_count": 25,
   "id": "df7ba587-afca-4182-8967-ceffa51af178",
   "metadata": {},
   "outputs": [],
   "source": [
    "df['job_title'] = df['job_title'].replace(r'[^A-Za-z\\s]', np.nan, regex=True)"
   ]
  },
  {
   "cell_type": "code",
   "execution_count": 26,
   "id": "365593e6-0c5b-49ed-9c0d-3de9e21ee7ec",
   "metadata": {},
   "outputs": [
    {
     "data": {
      "text/plain": [
       "array([nan, 'office administrator', 'ifa', ..., 'functional lead',\n",
       "       'service employee', 'senior experience designer'], dtype=object)"
      ]
     },
     "execution_count": 26,
     "metadata": {},
     "output_type": "execute_result"
    }
   ],
   "source": [
    "df['job_title'].unique()"
   ]
  },
  {
   "cell_type": "code",
   "execution_count": 27,
   "id": "497ec79f-39c6-410c-a648-1319695c3a6d",
   "metadata": {},
   "outputs": [
    {
     "data": {
      "text/plain": [
       "52602"
      ]
     },
     "execution_count": 27,
     "metadata": {},
     "output_type": "execute_result"
    }
   ],
   "source": [
    "df['job_title'].nunique()"
   ]
  },
  {
   "cell_type": "markdown",
   "id": "e39537c6-5183-4c41-8216-799a0912787e",
   "metadata": {},
   "source": [
    "<div style=\"background-color:#f3eafc; padding:15px; border-left:6px solid #8e44ad; border-radius:4px;\">\n",
    "  <h3 style=\"margin-top:0; color:#8e44ad;\">Processing <code>current</code> Column</h3>\n",
    "</div>"
   ]
  },
  {
   "cell_type": "code",
   "execution_count": 28,
   "id": "f3d59e28-7155-4fdc-b597-6c2627bbe9ee",
   "metadata": {},
   "outputs": [
    {
     "data": {
      "text/plain": [
       "array(['Current Employee', 'Current Employee, more than 1 year',\n",
       "       'Current Employee, less than 1 year', 'Former Employee',\n",
       "       'Current Employee, more than 5 years',\n",
       "       'Former Employee, more than 1 year',\n",
       "       'Former Employee, more than 3 years',\n",
       "       'Former Employee, more than 5 years',\n",
       "       'Current Employee, more than 3 years',\n",
       "       'Current Employee, more than 8 years',\n",
       "       'Former Employee, less than 1 year',\n",
       "       'Former Employee, more than 8 years',\n",
       "       'Current Employee, more than 10 years',\n",
       "       'Former Employee, more than 10 years',\n",
       "       'Former Contractor, less than 1 year',\n",
       "       'Former Intern, less than 1 year',\n",
       "       'Current Contractor, less than 1 year', 'Former Contractor',\n",
       "       'Former Intern, more than 1 year', 'Current Contractor',\n",
       "       'Former Intern', 'Current Intern, less than 1 year',\n",
       "       'Current Contractor, more than 1 year',\n",
       "       'Former Contractor, more than 1 year',\n",
       "       'Former Contractor, more than 8 years',\n",
       "       'Former Temporary Employee',\n",
       "       'KEY NOT FOUND: jobLine.per_diem-former',\n",
       "       'Current Freelancer, more than 3 years',\n",
       "       'KEY NOT FOUND: jobLine.temporary-former'], dtype=object)"
      ]
     },
     "execution_count": 28,
     "metadata": {},
     "output_type": "execute_result"
    }
   ],
   "source": [
    "df['current'].unique()"
   ]
  },
  {
   "cell_type": "code",
   "execution_count": 29,
   "id": "c48be6c7-af7d-4cd7-8366-73c71bafca67",
   "metadata": {},
   "outputs": [
    {
     "data": {
      "text/plain": [
       "29"
      ]
     },
     "execution_count": 29,
     "metadata": {},
     "output_type": "execute_result"
    }
   ],
   "source": [
    "df['current'].nunique()"
   ]
  },
  {
   "cell_type": "code",
   "execution_count": 30,
   "id": "3d642c55-310d-4215-8095-4ea868f09781",
   "metadata": {},
   "outputs": [],
   "source": [
    "df['current'] = df['current'].replace('KEY NOT FOUND: jobLine.per_diem-former', np.nan, regex=False)"
   ]
  },
  {
   "cell_type": "code",
   "execution_count": 31,
   "id": "914f04e3-3410-4e31-a7c0-a53932240c85",
   "metadata": {},
   "outputs": [],
   "source": [
    "df['current'] = df['current'].replace('KEY NOT FOUND: jobLine.temporary-former', np.nan, regex=False)"
   ]
  },
  {
   "cell_type": "markdown",
   "id": "9274f434-095e-4b04-834b-e007154286a0",
   "metadata": {},
   "source": [
    "<div style=\"background-color:#f3eafc; padding:15px; border-left:6px solid #8e44ad; border-radius:4px;\">\n",
    "  <h3 style=\"margin-top:0; color:#8e44ad;\">Processing <code>location</code> Column</h3>\n",
    "</div>"
   ]
  },
  {
   "cell_type": "code",
   "execution_count": 32,
   "id": "010cb356-fc16-4936-8388-3f4824e568ad",
   "metadata": {},
   "outputs": [
    {
     "data": {
      "text/plain": [
       "array([nan, 'Bromsgrove, England, England', 'Century City, CA', ...,\n",
       "       'Vejle', 'Lainate', 'Wijnegem, Antwerp'], dtype=object)"
      ]
     },
     "execution_count": 32,
     "metadata": {},
     "output_type": "execute_result"
    }
   ],
   "source": [
    "df['location'].unique()"
   ]
  },
  {
   "cell_type": "code",
   "execution_count": 33,
   "id": "a88efea1-f0b3-4f14-8957-9344cd30a441",
   "metadata": {},
   "outputs": [
    {
     "data": {
      "text/plain": [
       "14486"
      ]
     },
     "execution_count": 33,
     "metadata": {},
     "output_type": "execute_result"
    }
   ],
   "source": [
    "df['location'].nunique()"
   ]
  },
  {
   "cell_type": "code",
   "execution_count": 34,
   "id": "55b7e6e8-f2bd-4aad-bc92-9c83841fb32f",
   "metadata": {},
   "outputs": [],
   "source": [
    "df['location'] = df['location'].str.strip()"
   ]
  },
  {
   "cell_type": "code",
   "execution_count": 35,
   "id": "16c5948b-250f-43a2-9049-a7579e007334",
   "metadata": {},
   "outputs": [],
   "source": [
    "df['location'] = df['location'].replace('nan', np.nan, regex=False)"
   ]
  },
  {
   "cell_type": "code",
   "execution_count": 36,
   "id": "5749850b-cc20-43b4-b7a9-aae87ebcd041",
   "metadata": {},
   "outputs": [],
   "source": [
    "df['location'] = df['location'].replace('NaN', np.nan, regex=False)"
   ]
  },
  {
   "cell_type": "markdown",
   "id": "6bf82cf3-4a96-49c3-a318-faab4a44d7dc",
   "metadata": {},
   "source": [
    "<div style=\"background-color:#f3eafc; padding:15px; border-left:6px solid #8e44ad; border-radius:4px;\">\n",
    "  <h3 style=\"margin-top:0; color:#8e44ad;\">Handling Missing Values</h3>\n",
    "</div>"
   ]
  },
  {
   "cell_type": "code",
   "execution_count": 37,
   "id": "8126ec9f-ff2f-458c-a0bc-faf76b9787d7",
   "metadata": {},
   "outputs": [],
   "source": [
    "# drop rows with missing values in key columns\n",
    "columns = ['firm', 'job_title', 'current',\n",
    "        'overall_rating', 'work_life_balance', 'culture_values', \n",
    "        'career_opp', 'comp_benefits', 'senior_mgmt',\n",
    "        'recommend', 'ceo_approv', 'outlook']\n",
    "\n",
    "df.dropna(subset = columns, inplace = True)"
   ]
  },
  {
   "cell_type": "code",
   "execution_count": 38,
   "id": "92ebd9c0-a2c5-4140-ba8c-8e4b2e119353",
   "metadata": {},
   "outputs": [],
   "source": [
    "# drop the diversity_inclusion column\n",
    "df.drop(columns = ['diversity_inclusion'], inplace = True)"
   ]
  },
  {
   "cell_type": "code",
   "execution_count": 39,
   "id": "20bc4279-f9b9-4fe6-a10c-4a5f64a4ed2a",
   "metadata": {},
   "outputs": [],
   "source": [
    "# Reset the index after dropping rows\n",
    "df.reset_index(drop=True, inplace=True)"
   ]
  },
  {
   "cell_type": "markdown",
   "id": "cd6784a3-f889-4319-aee8-2327241ce768",
   "metadata": {},
   "source": [
    "<div style=\"background-color:#f3eafc; padding:15px; border-left:6px solid #8e44ad; border-radius:4px;\">\n",
    "  <h3 style=\"margin-top:0; color:#8e44ad;\">Save the Processed Data</h3>\n",
    "</div>"
   ]
  },
  {
   "cell_type": "code",
   "execution_count": 40,
   "id": "faedcc73-550a-46b2-8f8b-d2676cc64544",
   "metadata": {},
   "outputs": [
    {
     "data": {
      "text/html": [
       "<div>\n",
       "<style scoped>\n",
       "    .dataframe tbody tr th:only-of-type {\n",
       "        vertical-align: middle;\n",
       "    }\n",
       "\n",
       "    .dataframe tbody tr th {\n",
       "        vertical-align: top;\n",
       "    }\n",
       "\n",
       "    .dataframe thead th {\n",
       "        text-align: right;\n",
       "    }\n",
       "</style>\n",
       "<table border=\"1\" class=\"dataframe\">\n",
       "  <thead>\n",
       "    <tr style=\"text-align: right;\">\n",
       "      <th></th>\n",
       "      <th>firm</th>\n",
       "      <th>date_review</th>\n",
       "      <th>job_title</th>\n",
       "      <th>current</th>\n",
       "      <th>location</th>\n",
       "      <th>overall_rating</th>\n",
       "      <th>work_life_balance</th>\n",
       "      <th>culture_values</th>\n",
       "      <th>career_opp</th>\n",
       "      <th>comp_benefits</th>\n",
       "      <th>senior_mgmt</th>\n",
       "      <th>recommend</th>\n",
       "      <th>ceo_approv</th>\n",
       "      <th>outlook</th>\n",
       "      <th>headline</th>\n",
       "      <th>pros</th>\n",
       "      <th>cons</th>\n",
       "    </tr>\n",
       "  </thead>\n",
       "  <tbody>\n",
       "    <tr>\n",
       "      <th>0</th>\n",
       "      <td>AFH-Wealth-Management</td>\n",
       "      <td>2015-12-11</td>\n",
       "      <td>office administrator</td>\n",
       "      <td>Current Employee, more than 1 year</td>\n",
       "      <td>Bromsgrove, England, England</td>\n",
       "      <td>2</td>\n",
       "      <td>3.0</td>\n",
       "      <td>1.0</td>\n",
       "      <td>2.0</td>\n",
       "      <td>1.0</td>\n",
       "      <td>4.0</td>\n",
       "      <td>x</td>\n",
       "      <td>o</td>\n",
       "      <td>r</td>\n",
       "      <td>Excellent staff, poor salary</td>\n",
       "      <td>Friendly, helpful and hard-working colleagues</td>\n",
       "      <td>Poor salary which doesn't improve much with pr...</td>\n",
       "    </tr>\n",
       "    <tr>\n",
       "      <th>1</th>\n",
       "      <td>AFH-Wealth-Management</td>\n",
       "      <td>2016-01-28</td>\n",
       "      <td>office administrator</td>\n",
       "      <td>Current Employee, less than 1 year</td>\n",
       "      <td>Bromsgrove, England, England</td>\n",
       "      <td>1</td>\n",
       "      <td>1.0</td>\n",
       "      <td>1.0</td>\n",
       "      <td>1.0</td>\n",
       "      <td>1.0</td>\n",
       "      <td>1.0</td>\n",
       "      <td>x</td>\n",
       "      <td>o</td>\n",
       "      <td>x</td>\n",
       "      <td>Low salary, bad micromanagement</td>\n",
       "      <td>Easy to get the job even without experience in...</td>\n",
       "      <td>Very low salary, poor working conditions, very...</td>\n",
       "    </tr>\n",
       "    <tr>\n",
       "      <th>2</th>\n",
       "      <td>AFH-Wealth-Management</td>\n",
       "      <td>2016-04-23</td>\n",
       "      <td>office administrator</td>\n",
       "      <td>Current Employee, more than 1 year</td>\n",
       "      <td>Bromsgrove, England, England</td>\n",
       "      <td>1</td>\n",
       "      <td>2.0</td>\n",
       "      <td>1.0</td>\n",
       "      <td>2.0</td>\n",
       "      <td>1.0</td>\n",
       "      <td>1.0</td>\n",
       "      <td>x</td>\n",
       "      <td>o</td>\n",
       "      <td>x</td>\n",
       "      <td>client reporting admin</td>\n",
       "      <td>Easy to get the job, Nice colleagues.</td>\n",
       "      <td>Abysmal pay, around minimum wage. No actual tr...</td>\n",
       "    </tr>\n",
       "    <tr>\n",
       "      <th>3</th>\n",
       "      <td>AFH-Wealth-Management</td>\n",
       "      <td>2016-05-26</td>\n",
       "      <td>office administrator</td>\n",
       "      <td>Current Employee, less than 1 year</td>\n",
       "      <td>NaN</td>\n",
       "      <td>3</td>\n",
       "      <td>4.0</td>\n",
       "      <td>2.0</td>\n",
       "      <td>2.0</td>\n",
       "      <td>3.0</td>\n",
       "      <td>2.0</td>\n",
       "      <td>o</td>\n",
       "      <td>r</td>\n",
       "      <td>r</td>\n",
       "      <td>Office administrator</td>\n",
       "      <td>Some good people to work with.\\n\\nFlexible wor...</td>\n",
       "      <td>Morale.\\n\\nLack of managerial structure.\\n\\nDo...</td>\n",
       "    </tr>\n",
       "    <tr>\n",
       "      <th>4</th>\n",
       "      <td>AFH-Wealth-Management</td>\n",
       "      <td>2016-09-23</td>\n",
       "      <td>ifa</td>\n",
       "      <td>Former Employee</td>\n",
       "      <td>Bromsgrove, England, England</td>\n",
       "      <td>1</td>\n",
       "      <td>1.0</td>\n",
       "      <td>1.0</td>\n",
       "      <td>1.0</td>\n",
       "      <td>1.0</td>\n",
       "      <td>1.0</td>\n",
       "      <td>x</td>\n",
       "      <td>o</td>\n",
       "      <td>r</td>\n",
       "      <td>It horrible management</td>\n",
       "      <td>Good investment management strategy. Overall t...</td>\n",
       "      <td>The management and seniors are ruthless. No tr...</td>\n",
       "    </tr>\n",
       "  </tbody>\n",
       "</table>\n",
       "</div>"
      ],
      "text/plain": [
       "                    firm date_review             job_title  \\\n",
       "0  AFH-Wealth-Management  2015-12-11  office administrator   \n",
       "1  AFH-Wealth-Management  2016-01-28  office administrator   \n",
       "2  AFH-Wealth-Management  2016-04-23  office administrator   \n",
       "3  AFH-Wealth-Management  2016-05-26  office administrator   \n",
       "4  AFH-Wealth-Management  2016-09-23                   ifa   \n",
       "\n",
       "                              current                      location  \\\n",
       "0  Current Employee, more than 1 year  Bromsgrove, England, England   \n",
       "1  Current Employee, less than 1 year  Bromsgrove, England, England   \n",
       "2  Current Employee, more than 1 year  Bromsgrove, England, England   \n",
       "3  Current Employee, less than 1 year                           NaN   \n",
       "4                     Former Employee  Bromsgrove, England, England   \n",
       "\n",
       "   overall_rating  work_life_balance  culture_values  career_opp  \\\n",
       "0               2                3.0             1.0         2.0   \n",
       "1               1                1.0             1.0         1.0   \n",
       "2               1                2.0             1.0         2.0   \n",
       "3               3                4.0             2.0         2.0   \n",
       "4               1                1.0             1.0         1.0   \n",
       "\n",
       "   comp_benefits  senior_mgmt recommend ceo_approv outlook  \\\n",
       "0            1.0          4.0         x          o       r   \n",
       "1            1.0          1.0         x          o       x   \n",
       "2            1.0          1.0         x          o       x   \n",
       "3            3.0          2.0         o          r       r   \n",
       "4            1.0          1.0         x          o       r   \n",
       "\n",
       "                          headline  \\\n",
       "0     Excellent staff, poor salary   \n",
       "1  Low salary, bad micromanagement   \n",
       "2           client reporting admin   \n",
       "3             Office administrator   \n",
       "4           It horrible management   \n",
       "\n",
       "                                                pros  \\\n",
       "0      Friendly, helpful and hard-working colleagues   \n",
       "1  Easy to get the job even without experience in...   \n",
       "2              Easy to get the job, Nice colleagues.   \n",
       "3  Some good people to work with.\\n\\nFlexible wor...   \n",
       "4  Good investment management strategy. Overall t...   \n",
       "\n",
       "                                                cons  \n",
       "0  Poor salary which doesn't improve much with pr...  \n",
       "1  Very low salary, poor working conditions, very...  \n",
       "2  Abysmal pay, around minimum wage. No actual tr...  \n",
       "3  Morale.\\n\\nLack of managerial structure.\\n\\nDo...  \n",
       "4  The management and seniors are ruthless. No tr...  "
      ]
     },
     "execution_count": 40,
     "metadata": {},
     "output_type": "execute_result"
    }
   ],
   "source": [
    "df.head()"
   ]
  },
  {
   "cell_type": "code",
   "execution_count": 41,
   "id": "67fe34bc-6f90-456a-8773-45b81bb5cab4",
   "metadata": {},
   "outputs": [
    {
     "data": {
      "text/plain": [
       "(577992, 17)"
      ]
     },
     "execution_count": 41,
     "metadata": {},
     "output_type": "execute_result"
    }
   ],
   "source": [
    "df.shape"
   ]
  },
  {
   "cell_type": "code",
   "execution_count": 42,
   "id": "3521e965-90c3-410b-b140-199498904f71",
   "metadata": {},
   "outputs": [
    {
     "data": {
      "text/plain": [
       "firm                      0\n",
       "date_review               0\n",
       "job_title                 0\n",
       "current                   0\n",
       "location             157709\n",
       "overall_rating            0\n",
       "work_life_balance         0\n",
       "culture_values            0\n",
       "career_opp                0\n",
       "comp_benefits             0\n",
       "senior_mgmt               0\n",
       "recommend                 0\n",
       "ceo_approv                0\n",
       "outlook                   0\n",
       "headline               1267\n",
       "pros                      2\n",
       "cons                      8\n",
       "dtype: int64"
      ]
     },
     "execution_count": 42,
     "metadata": {},
     "output_type": "execute_result"
    }
   ],
   "source": [
    "df.isnull().sum()"
   ]
  },
  {
   "cell_type": "code",
   "execution_count": 43,
   "id": "56e6dba3-2bb0-4c66-8b70-19c6028e568d",
   "metadata": {},
   "outputs": [],
   "source": [
    "df.to_csv(\"data/processed/processed_glassdoor.csv\", index=False)"
   ]
  },
  {
   "cell_type": "code",
   "execution_count": null,
   "id": "2d7367a8-fe1d-48fd-877e-a9c03c1cd393",
   "metadata": {},
   "outputs": [],
   "source": []
  }
 ],
 "metadata": {
  "kernelspec": {
   "display_name": "Python [conda env:base] *",
   "language": "python",
   "name": "conda-base-py"
  },
  "language_info": {
   "codemirror_mode": {
    "name": "ipython",
    "version": 3
   },
   "file_extension": ".py",
   "mimetype": "text/x-python",
   "name": "python",
   "nbconvert_exporter": "python",
   "pygments_lexer": "ipython3",
   "version": "3.12.7"
  }
 },
 "nbformat": 4,
 "nbformat_minor": 5
}
